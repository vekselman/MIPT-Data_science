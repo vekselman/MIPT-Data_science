{
 "cells": [
  {
   "cell_type": "code",
   "execution_count": 1,
   "metadata": {
    "collapsed": false
   },
   "outputs": [
    {
     "name": "stdout",
     "output_type": "stream",
     "text": [
      "<type 'list'>\n",
      "[]\n",
      "<type 'dict'>\n"
     ]
    }
   ],
   "source": [
    "from __future__ import print_function\n",
    "import re\n",
    "\n",
    "file = open('sentences.txt', 'r')\n",
    "\n",
    "i = 0\n",
    "while i<30: # число 30 я поставил зная, что строк 22. Как узнать кол-во строк в файле?\n",
    "    line = file.readline()\n",
    "    line = line.lower()\n",
    "    line = re.split('[^a-z]', line)\n",
    "    line = filter(None, line)\n",
    "    #print (line)\n",
    "    i = i + 1\n",
    "\n",
    "print (type(line))\n",
    "\n",
    "index = dict()\n",
    "i = 0\n",
    "for word2 in line:\n",
    "    for word in word2:\n",
    "        if word not in index:\n",
    "            index[word] = i\n",
    "            i = i + 1\n",
    "print (index.items())\n",
    "print (type(index))"
   ]
  }
 ],
 "metadata": {
  "anaconda-cloud": {},
  "kernelspec": {
   "display_name": "Python [default]",
   "language": "python",
   "name": "python2"
  },
  "language_info": {
   "codemirror_mode": {
    "name": "ipython",
    "version": 2
   },
   "file_extension": ".py",
   "mimetype": "text/x-python",
   "name": "python",
   "nbconvert_exporter": "python",
   "pygments_lexer": "ipython2",
   "version": "2.7.12"
  }
 },
 "nbformat": 4,
 "nbformat_minor": 1
}
