{
 "cells": [
  {
   "cell_type": "code",
   "execution_count": 1,
   "metadata": {
    "collapsed": true
   },
   "outputs": [],
   "source": [
    "from scipy.linalg import solve\n",
    "from matplotlib import pylab as plt\n",
    "import math\n",
    "%matplotlib inline"
   ]
  },
  {
   "cell_type": "code",
   "execution_count": 2,
   "metadata": {
    "collapsed": true
   },
   "outputs": [],
   "source": [
    "def func(x):\n",
    "    return math.sin(x/5.) * math.exp(x/10.) + 5 * math.exp(-x/2.)"
   ]
  },
  {
   "cell_type": "code",
   "execution_count": 3,
   "metadata": {
    "collapsed": false
   },
   "outputs": [
    {
     "name": "stdout",
     "output_type": "stream",
     "text": [
      "[array([ 4.13628821]), array([ 4.13625294]), array([ 4.1362887]), array([ 4.13629865]), array([ 4.13629149]), array([ 25.88019259]), array([ 25.88019302]), array([ 25.88018732]), array([ 25.88019322]), array([ 25.88018157]), array([ 25.88019291]), array([ 25.88019288]), array([ 25.88018582]), array([ 25.88019778]), array([ 25.88019305])]\n"
     ]
    }
   ],
   "source": [
    "from scipy.optimize import minimize\n",
    "result = [minimize(func, [x], bounds=[(1, 30)]).x for x in range(1,30,2)]\n",
    "print(result)"
   ]
  },
  {
   "cell_type": "code",
   "execution_count": 4,
   "metadata": {
    "collapsed": false
   },
   "outputs": [
    {
     "name": "stdout",
     "output_type": "stream",
     "text": [
      "      jac: array([ -2.04145908e-06])\n",
      "   status: 0\n",
      "  message: 'Optimization terminated successfully.'\n",
      "      fun: 1.7452682903447336\n",
      " hess_inv: array([[ 5.98752645]])\n",
      "     nfev: 21\n",
      "        x: array([ 4.13627628])\n",
      "     njev: 7\n",
      "  success: True\n"
     ]
    }
   ],
   "source": [
    "print(minimize(func, [2], method='BFGS'))"
   ]
  },
  {
   "cell_type": "code",
   "execution_count": 5,
   "metadata": {
    "collapsed": false
   },
   "outputs": [
    {
     "name": "stdout",
     "output_type": "stream",
     "text": [
      "      jac: array([  1.19209290e-07])\n",
      "   status: 0\n",
      "  message: 'Optimization terminated successfully.'\n",
      "      fun: -11.898894665981265\n",
      " hess_inv: array([[ 1.67840334]])\n",
      "     nfev: 18\n",
      "        x: array([ 25.88019347])\n",
      "     njev: 6\n",
      "  success: True\n"
     ]
    }
   ],
   "source": [
    "print(minimize(func, [30], method='BFGS'))"
   ]
  },
  {
   "cell_type": "code",
   "execution_count": 6,
   "metadata": {
    "collapsed": false
   },
   "outputs": [
    {
     "name": "stdout",
     "output_type": "stream",
     "text": [
      "     fun: -11.89889466598132\n",
      "     jac: array([  1.77635684e-07])\n",
      "    nfev: 83\n",
      "       x: array([ 25.88019293])\n",
      "     nit: 4\n",
      " message: 'Optimization terminated successfully.'\n",
      " success: True\n"
     ]
    }
   ],
   "source": [
    "from scipy.optimize import differential_evolution\n",
    "print(differential_evolution(func, [(1,30)]))"
   ]
  },
  {
   "cell_type": "code",
   "execution_count": 7,
   "metadata": {
    "collapsed": true
   },
   "outputs": [],
   "source": [
    "h = lambda x: int(func(x))"
   ]
  },
  {
   "cell_type": "code",
   "execution_count": 16,
   "metadata": {
    "collapsed": false
   },
   "outputs": [
    {
     "data": {
      "image/png": "[encoded data removed]",
      "text/plain": [
       "<matplotlib.figure.Figure at 0x8212d30>"
      ]
     },
     "metadata": {},
     "output_type": "display_data"
    }
   ],
   "source": [
    "plt.plot(range(1,31), [h(x) for x in range(1,31)])\n",
    "plt.show()"
   ]
  },
  {
   "cell_type": "code",
   "execution_count": 17,
   "metadata": {
    "collapsed": false
   },
   "outputs": [
    {
     "name": "stdout",
     "output_type": "stream",
     "text": [
      "      jac: array([ 0.])\n",
      "   status: 0\n",
      "  message: 'Optimization terminated successfully.'\n",
      "      fun: -5\n",
      " hess_inv: array([[1]])\n",
      "     nfev: 3\n",
      "        x: array([30])\n",
      "     njev: 1\n",
      "  success: True\n"
     ]
    }
   ],
   "source": [
    "print(minimize(h, [30], method='BFGS'))"
   ]
  },
  {
   "cell_type": "code",
   "execution_count": 18,
   "metadata": {
    "collapsed": false
   },
   "outputs": [
    {
     "name": "stdout",
     "output_type": "stream",
     "text": [
      "     fun: -11.0\n",
      "    nfev: 77\n",
      "       x: array([ 24.5815788])\n",
      "     nit: 4\n",
      " message: 'Optimization terminated successfully.'\n",
      " success: True\n"
     ]
    }
   ],
   "source": [
    "print(differential_evolution(h, [(1,30)]))"
   ]
  }
 ],
 "metadata": {
  "kernelspec": {
   "display_name": "Python 3",
   "language": "python",
   "name": "python3"
  },
  "language_info": {
   "codemirror_mode": {
    "name": "ipython",
    "version": 3
   },
   "file_extension": ".py",
   "mimetype": "text/x-python",
   "name": "python",
   "nbconvert_exporter": "python",
   "pygments_lexer": "ipython3",
   "version": "3.4.3"
  }
 },
 "nbformat": 4,
 "nbformat_minor": 0
}
