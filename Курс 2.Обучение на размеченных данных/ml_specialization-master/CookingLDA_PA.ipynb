{
 "cells": [
  {
   "cell_type": "markdown",
   "metadata": {},
   "source": [
    "# Programming Assignment\n",
    "## Готовим LDA по рецептам"
   ]
  },
  {
   "cell_type": "markdown",
   "metadata": {},
   "source": [
    "Как вы уже знаете, в тематическом моделировании делается предположение о том, что для определения тематики порядок слов в документе не важен; об этом гласит гипотеза <<мешка слов>>. Сегодня мы будем работать с несколько нестандартной для тематического моделирования коллекцией, которую можно назвать <<мешком ингредиентов>>, потому что на состоит из рецептов блюд разных кухонь. Тематические модели ищут слова, которые часто вместе встречаются в документах, и составляют из них темы. Мы попробуем применить эту идею к рецептам и найти кулинарные <<темы>>. Эта коллекция хороша тем, что не требует предобработки. Кроме того, эта задача достаточно наглядно иллюстрирует принцип работы тематических моделей.\n",
    "\n",
    "Для выполнения заданий, помимо часто используемых в курсе библиотек, потребуются модули json и gensim. Первый входит в дистрибутив Anaconda, второй можно поставить командой \n",
    "\n",
    "pip install gensim\n",
    "\n",
    "или\n",
    "\n",
    "conda install gensim\n",
    "\n",
    "Построение модели занимает некоторое время. На ноутбуке с процессором Intel Core i7 и тактовой частотой 2400 МГц на построение одной модели уходит менее 10 минут."
   ]
  },
  {
   "cell_type": "markdown",
   "metadata": {},
   "source": [
    "### Загрузка данных"
   ]
  },
  {
   "cell_type": "markdown",
   "metadata": {},
   "source": [
    "Коллекция дана в json-формате: для каждого рецепта известны его id, кухня (\"cuisine\") и список ингредиентов, в него входящих. Загрузить данные можно с помощью модуля json (он входит в дистрибутив Anaconda):"
   ]
  },
  {
   "cell_type": "code",
   "execution_count": 1,
   "metadata": {
    "collapsed": true
   },
   "outputs": [],
   "source": [
    "import json"
   ]
  },
  {
   "cell_type": "code",
   "execution_count": 2,
   "metadata": {
    "collapsed": true
   },
   "outputs": [],
   "source": [
    "with open(\"recipes.json\") as f:\n",
    "    recipes = json.load(f)"
   ]
  },
  {
   "cell_type": "code",
   "execution_count": 3,
   "metadata": {
    "collapsed": false
   },
   "outputs": [
    {
     "name": "stdout",
     "output_type": "stream",
     "text": [
      "{u'cuisine': u'greek', u'id': 10259, u'ingredients': [u'romaine lettuce', u'black olives', u'grape tomatoes', u'garlic', u'pepper', u'purple onion', u'seasoning', u'garbanzo beans', u'feta cheese crumbles']}\n"
     ]
    }
   ],
   "source": [
    "print recipes[0]"
   ]
  },
  {
   "cell_type": "markdown",
   "metadata": {},
   "source": [
    "### Составление корпуса"
   ]
  },
  {
   "cell_type": "code",
   "execution_count": 4,
   "metadata": {
    "collapsed": false
   },
   "outputs": [],
   "source": [
    "from gensim import corpora, models\n",
    "import numpy as np"
   ]
  },
  {
   "cell_type": "markdown",
   "metadata": {},
   "source": [
    "Наша коллекция небольшая и влезает в оперативную память. Gensim может работать с такими данными и не требует их сохранения на диск в специальном формате. Для этого коллекция должна быть представлена в виде списка списков, каждый внутренний список соответствует отдельному документу и состоит из его слов. Пример коллекции из двух документов: \n",
    "\n",
    "[[\"hello\", \"world\"], [\"programming\", \"in\", \"python\"]]\n",
    "\n",
    "Преобразуем наши данные в такой формат, а затем создадим объекты corpus и dictionary, с которыми будет работать модель."
   ]
  },
  {
   "cell_type": "code",
   "execution_count": 5,
   "metadata": {
    "collapsed": true
   },
   "outputs": [],
   "source": [
    "texts = [recipe[\"ingredients\"] for recipe in recipes]\n",
    "dictionary = corpora.Dictionary(texts)   # составляем словарь\n",
    "corpus = [dictionary.doc2bow(text) for text in texts]  # составляем корпус документов"
   ]
  },
  {
   "cell_type": "code",
   "execution_count": 6,
   "metadata": {
    "collapsed": false
   },
   "outputs": [
    {
     "name": "stdout",
     "output_type": "stream",
     "text": [
      "[u'romaine lettuce', u'black olives', u'grape tomatoes', u'garlic', u'pepper', u'purple onion', u'seasoning', u'garbanzo beans', u'feta cheese crumbles']\n",
      "[(0, 1), (1, 1), (2, 1), (3, 1), (4, 1), (5, 1), (6, 1), (7, 1), (8, 1)]\n"
     ]
    }
   ],
   "source": [
    "print texts[0]\n",
    "print corpus[0]"
   ]
  },
  {
   "cell_type": "markdown",
   "metadata": {},
   "source": [
    "У объекта dictionary есть две полезных переменных: dictionary.id2token и dictionary.token2id; эти словари позволяют находить соответствие между ингредиентами и их индексами."
   ]
  },
  {
   "cell_type": "markdown",
   "metadata": {},
   "source": [
    "### Обучение модели\n",
    "Вам может понадобиться [документация](https://radimrehurek.com/gensim/models/ldamodel.html) LDA в gensim."
   ]
  },
  {
   "cell_type": "markdown",
   "metadata": {},
   "source": [
    "__Задание 1.__ Обучите модель LDA с 40 темами, установив количество проходов по коллекции 5 и оставив остальные параметры по умолчанию. Затем вызовите метод модели show_topics, указав количество тем 40 и количество токенов 10, и сохраните результат (топы ингредиентов в темах) в отдельную переменную. Если при вызове метода show_topics указать параметр formatted=True, то топы ингредиентов будет удобно выводить на печать, если formatted=False, будет удобно работать со списком программно. Выведите топы на печать, рассмотрите темы, а затем ответьте на вопрос:\n",
    "\n",
    "Сколько раз ингредиенты \"salt\", \"sugar\", \"water\", \"mushrooms\", \"chicken\", \"eggs\" встретились среди топов-10 всех 40 тем? При ответе __не нужно__ учитывать составные ингредиенты, например, \"hot water\".\n",
    "\n",
    "Передайте 6 чисел в функцию save_answers1 и загрузите сгенерированный файл в форму.\n",
    "\n",
    "У gensim нет возможности фиксировать случайное приближение через параметры метода, но библиотека использует numpy для инициализации матриц. Поэтому, по утверждению автора библиотеки, фиксировать случайное приближение нужно командой, которая написана в следующей ячейке. __Перед строкой кода с построением модели обязательно вставляйте указанную строку фиксации random.seed.__"
   ]
  },
  {
   "cell_type": "code",
   "execution_count": 7,
   "metadata": {
    "collapsed": false
   },
   "outputs": [
    {
     "name": "stdout",
     "output_type": "stream",
     "text": [
      "Wall time: 2min 22s\n"
     ]
    }
   ],
   "source": [
    "np.random.seed(76543)\n",
    "# здесь код для построения модели:\n",
    "%time ldamodel = models.ldamodel.LdaModel(corpus, num_topics=40, id2word=dictionary, passes=5)"
   ]
  },
  {
   "cell_type": "code",
   "execution_count": 8,
   "metadata": {
    "collapsed": false
   },
   "outputs": [
    {
     "data": {
      "text/plain": [
       "[(0,\n",
       "  u'0.083*salt + 0.080*cooking spray + 0.079*garlic cloves + 0.064*olive oil + 0.064*chopped onion + 0.035*fat free less sodium chicken broth + 0.034*crushed red pepper + 0.034*water + 0.033*black pepper + 0.032*ground black pepper'),\n",
       " (1,\n",
       "  u'0.130*carrots + 0.077*onions + 0.052*cabbage + 0.043*spinach + 0.040*celery + 0.039*water + 0.037*beef + 0.031*low sodium chicken broth + 0.029*salt + 0.026*green cabbage'),\n",
       " (2,\n",
       "  u'0.066*dry red wine + 0.047*shortening + 0.046*beef broth + 0.045*vegetable oil cooking spray + 0.044*grape tomatoes + 0.039*cilantro sprigs + 0.035*french bread + 0.033*dried rosemary + 0.030*all-purpose flour + 0.030*sun-dried tomatoes'),\n",
       " (3,\n",
       "  u'0.117*oil + 0.112*potatoes + 0.081*salt + 0.050*chickpeas + 0.049*pepper + 0.048*onions + 0.046*rice + 0.030*water + 0.029*coriander + 0.029*saffron'),\n",
       " (4,\n",
       "  u'0.061*green bell pepper + 0.057*garlic powder + 0.055*salt + 0.054*cayenne pepper + 0.039*onions + 0.034*dried thyme + 0.032*paprika + 0.030*worcestershire sauce + 0.027*onion powder + 0.026*ground black pepper'),\n",
       " (5,\n",
       "  u'0.073*ground cumin + 0.053*salt + 0.048*ground coriander + 0.041*paprika + 0.038*olive oil + 0.035*onions + 0.033*garlic + 0.023*cayenne pepper + 0.022*garlic cloves + 0.020*tumeric'),\n",
       " (6,\n",
       "  u'0.113*ground cinnamon + 0.087*ground nutmeg + 0.056*honey + 0.052*raisins + 0.048*ground cloves + 0.046*ground allspice + 0.034*brown sugar + 0.033*light brown sugar + 0.031*ground ginger + 0.030*margarine'),\n",
       " (7,\n",
       "  u'0.082*zucchini + 0.078*fresh basil + 0.078*plum tomatoes + 0.075*olive oil + 0.046*salt + 0.045*eggplant + 0.033*garlic cloves + 0.031*grated parmesan cheese + 0.028*spaghetti + 0.028*red bell pepper'),\n",
       " (8,\n",
       "  u'0.089*cooking oil + 0.059*basmati rice + 0.057*salt + 0.057*vinegar + 0.051*water + 0.049*ginger + 0.041*curry leaves + 0.033*mint leaves + 0.027*red cabbage + 0.026*kimchi'),\n",
       " (9,\n",
       "  u'0.075*dried oregano + 0.074*onions + 0.065*garlic + 0.058*tomato sauce + 0.055*salt + 0.053*diced tomatoes + 0.050*ground beef + 0.041*dried basil + 0.040*tomato paste + 0.036*olive oil'),\n",
       " (10,\n",
       "  u'0.040*ground black pepper + 0.038*russet potatoes + 0.037*large eggs + 0.037*dry bread crumbs + 0.032*chopped fresh chives + 0.032*butter + 0.029*red potato + 0.028*ham + 0.025*salt + 0.025*all-purpose flour'),\n",
       " (11,\n",
       "  u'0.066*jalapeno chilies + 0.064*salt + 0.049*avocado + 0.040*lime + 0.034*garlic + 0.034*purple onion + 0.033*olive oil + 0.032*cilantro + 0.031*fresh cilantro + 0.029*ground cumin'),\n",
       " (12,\n",
       "  u'0.102*cucumber + 0.068*lean ground beef + 0.047*cider vinegar + 0.044*feta cheese + 0.039*romaine lettuce + 0.038*lemon wedge + 0.036*cherry tomatoes + 0.033*cream + 0.031*purple onion + 0.029*chili'),\n",
       " (13,\n",
       "  u'0.083*sour cream + 0.056*salsa + 0.049*shredded cheddar cheese + 0.047*flour tortillas + 0.038*black beans + 0.038*chili powder + 0.033*green onions + 0.030*ground cumin + 0.024*cheddar cheese + 0.024*corn tortillas'),\n",
       " (14,\n",
       "  u'0.074*cinnamon sticks + 0.065*sweet potatoes + 0.051*black peppercorns + 0.048*white sugar + 0.046*orange + 0.043*fresh mint + 0.043*sugar + 0.036*fennel seeds + 0.036*water + 0.028*red wine'),\n",
       " (15,\n",
       "  u'0.091*cold water + 0.078*sauce + 0.060*ground white pepper + 0.058*boiling water + 0.033*slivered almonds + 0.031*sugar + 0.030*cake flour + 0.027*panko breadcrumbs + 0.026*green olives + 0.024*szechwan peppercorns'),\n",
       " (16,\n",
       "  u'0.100*extra-virgin olive oil + 0.060*garlic cloves + 0.050*olive oil + 0.047*flat leaf parsley + 0.040*freshly ground pepper + 0.038*salt + 0.037*dry white wine + 0.037*fresh lemon juice + 0.032*large garlic cloves + 0.030*ground black pepper'),\n",
       " (17,\n",
       "  u'0.122*coconut milk + 0.050*white wine + 0.046*parsley + 0.043*garlic + 0.040*thyme + 0.037*onions + 0.033*sea salt + 0.031*chicken thighs + 0.029*coconut oil + 0.026*salt'),\n",
       " (18,\n",
       "  u'0.104*salt + 0.093*all-purpose flour + 0.086*eggs + 0.085*milk + 0.071*butter + 0.055*baking powder + 0.049*sugar + 0.037*flour + 0.034*baking soda + 0.030*buttermilk'),\n",
       " (19,\n",
       "  u'0.140*curry powder + 0.074*frozen peas + 0.067*long-grain rice + 0.055*sweetened condensed milk + 0.048*greek yogurt + 0.039*black-eyed peas + 0.038*egg whites + 0.033*cauliflower + 0.027*ground cayenne pepper + 0.024*sugar pea'),\n",
       " (20,\n",
       "  u'0.041*peanut oil + 0.034*beansprouts + 0.033*Sriracha + 0.030*rice noodles + 0.030*medium shrimp + 0.029*fish sauce + 0.028*peanuts + 0.027*peeled fresh ginger + 0.024*ground pork + 0.024*minced ginger'),\n",
       " (21,\n",
       "  u'0.114*boneless skinless chicken breast halves + 0.105*coarse salt + 0.066*ground pepper + 0.061*mayonaise + 0.059*sweet onion + 0.043*white rice + 0.041*minced garlic + 0.035*minced onion + 0.031*dried parsley + 0.027*ketchup'),\n",
       " (22,\n",
       "  u'0.076*diced onions + 0.052*lettuce + 0.051*self rising flour + 0.046*provolone cheese + 0.039*grits + 0.030*iceberg lettuce + 0.027*frozen pastry puff sheets + 0.025*shredded cheese + 0.025*romano cheese + 0.024*semi-sweet chocolate morsels'),\n",
       " (23,\n",
       "  u'0.183*lemon juice + 0.085*dijon mustard + 0.052*creole seasoning + 0.042*white pepper + 0.042*pork tenderloin + 0.040*fresh orange juice + 0.039*nutmeg + 0.029*kale + 0.029*mayonaise + 0.028*salmon fillets'),\n",
       " (24,\n",
       "  u'0.076*whipping cream + 0.067*sugar + 0.065*orange juice + 0.061*hot water + 0.056*chopped garlic + 0.039*grated nutmeg + 0.037*bananas + 0.034*bread flour + 0.027*vanilla beans + 0.027*water'),\n",
       " (25,\n",
       "  u'0.067*salt + 0.061*cumin seed + 0.054*onions + 0.044*ground turmeric + 0.043*garam masala + 0.040*green chilies + 0.033*chili powder + 0.031*tomatoes + 0.029*oil + 0.028*clove'),\n",
       " (26,\n",
       "  u'0.084*fish sauce + 0.048*white vinegar + 0.042*sugar + 0.037*lime juice + 0.036*garlic + 0.032*vegetable oil + 0.032*lemongrass + 0.031*shallots + 0.028*water + 0.028*red chili peppers'),\n",
       " (27,\n",
       "  u'0.104*grated parmesan cheese + 0.057*warm water + 0.054*salt + 0.047*shredded mozzarella cheese + 0.044*olive oil + 0.039*ricotta cheese + 0.038*active dry yeast + 0.036*mozzarella cheese + 0.031*italian seasoning + 0.031*eggs'),\n",
       " (28,\n",
       "  u'0.195*shrimp + 0.056*pork + 0.054*baby spinach + 0.033*unsweetened coconut milk + 0.032*fresh tomatoes + 0.031*noodles + 0.030*black mustard seeds + 0.028*jasmine rice + 0.028*sausage casings + 0.024*sea scallops'),\n",
       " (29,\n",
       "  u'0.146*shallots + 0.104*mushrooms + 0.064*white wine vinegar + 0.039*butter + 0.038*mussels + 0.038*olive oil + 0.032*boneless chicken breast + 0.027*dry white wine + 0.026*chopped fresh sage + 0.020*chorizo sausage'),\n",
       " (30,\n",
       "  u'0.087*unsalted butter + 0.086*large eggs + 0.069*sugar + 0.056*salt + 0.050*all-purpose flour + 0.048*heavy cream + 0.038*whole milk + 0.034*vanilla extract + 0.034*granulated sugar + 0.029*large egg yolks'),\n",
       " (31,\n",
       "  u'0.068*ground red pepper + 0.065*salt + 0.056*finely chopped onion + 0.050*chopped celery + 0.045*green beans + 0.042*water + 0.034*hot pepper sauce + 0.034*long grain white rice + 0.032*chopped onion + 0.031*chopped green bell pepper'),\n",
       " (32,\n",
       "  u'0.067*fine sea salt + 0.056*lemon zest + 0.054*fresh spinach + 0.053*water + 0.046*yukon gold potatoes + 0.037*collard greens + 0.034*rice flour + 0.032*tofu + 0.030*dried shiitake mushrooms + 0.029*seasoning salt'),\n",
       " (33,\n",
       "  u'0.142*balsamic vinegar + 0.075*dark soy sauce + 0.067*baguette + 0.054*broccoli + 0.040*arugula + 0.034*mint + 0.033*penne + 0.021*red kidney beans + 0.020*quinoa + 0.019*phyllo dough'),\n",
       " (34,\n",
       "  u'0.082*onions + 0.067*salt + 0.059*garlic + 0.051*olive oil + 0.046*bay leaves + 0.043*ground black pepper + 0.042*chicken stock + 0.039*lemon + 0.037*chicken + 0.035*bacon'),\n",
       " (35,\n",
       "  u'0.096*soy sauce + 0.051*sesame oil + 0.042*sugar + 0.040*corn starch + 0.039*garlic + 0.036*green onions + 0.034*scallions + 0.033*rice vinegar + 0.030*water + 0.029*salt'),\n",
       " (36,\n",
       "  u'0.105*cheese + 0.063*garlic salt + 0.059*rice wine + 0.056*chives + 0.042*chicken breast halves + 0.040*shredded sharp cheddar cheese + 0.039*roasted peanuts + 0.037*Mexican cheese blend + 0.036*non-fat sour cream + 0.033*dashi'),\n",
       " (37,\n",
       "  u'0.215*chicken broth + 0.133*chicken breasts + 0.086*crushed red pepper flakes + 0.045*onions + 0.044*garlic + 0.026*pepper + 0.026*poblano chiles + 0.025*frozen corn + 0.022*olive oil + 0.020*chile powder'),\n",
       " (38,\n",
       "  u'0.068*olive oil + 0.060*red wine vinegar + 0.058*salt + 0.039*garlic + 0.038*fresh basil leaves + 0.038*parmesan cheese + 0.036*extra-virgin olive oil + 0.031*pepper + 0.029*feta cheese crumbles + 0.029*tomatoes'),\n",
       " (39,\n",
       "  u'0.102*canola oil + 0.091*kosher salt + 0.062*fresh lime juice + 0.046*chopped cilantro fresh + 0.046*garlic cloves + 0.031*vegetable oil + 0.031*chiles + 0.029*serrano chile + 0.027*boneless chicken skinless thigh + 0.024*ground black pepper')]"
      ]
     },
     "execution_count": 8,
     "metadata": {},
     "output_type": "execute_result"
    }
   ],
   "source": [
    "topics = ldamodel.show_topics(num_topics=40, formatted=False)\n",
    "ldamodel.show_topics(num_topics=40)"
   ]
  },
  {
   "cell_type": "code",
   "execution_count": 9,
   "metadata": {
    "collapsed": false
   },
   "outputs": [
    {
     "data": {
      "text/plain": [
       "{'chicken': 1, 'eggs': 2, 'mushrooms': 1, 'salt': 20, 'sugar': 7, 'water': 10}"
      ]
     },
     "execution_count": 9,
     "metadata": {},
     "output_type": "execute_result"
    }
   ],
   "source": [
    "words = [\"salt\", \"sugar\", \"water\", \"mushrooms\", \"chicken\", \"eggs\"]\n",
    "result = dict(zip(words, [0]*6))\n",
    "for w in words:\n",
    "    for top_list in topics:\n",
    "        for top_w in top_list[1]:\n",
    "            if w == top_w[0]:\n",
    "                result[w] += 1\n",
    "                    \n",
    "result"
   ]
  },
  {
   "cell_type": "code",
   "execution_count": 10,
   "metadata": {
    "collapsed": true
   },
   "outputs": [],
   "source": [
    "def save_answers1(c_salt, c_sugar, c_water, c_mushrooms, c_chicken, c_eggs):\n",
    "    with open(\"cooking_LDA_pa_task1.txt\", \"w\") as fout:\n",
    "        fout.write(\" \".join([str(el) for el in [c_salt, c_sugar, c_water, c_mushrooms, c_chicken, c_eggs]]))"
   ]
  },
  {
   "cell_type": "code",
   "execution_count": 11,
   "metadata": {
    "collapsed": false
   },
   "outputs": [
    {
     "data": {
      "text/plain": [
       "[20, 7, 10, 1, 1, 2]"
      ]
     },
     "execution_count": 11,
     "metadata": {},
     "output_type": "execute_result"
    }
   ],
   "source": [
    "numbers = [result.get(w) for w in words]\n",
    "numbers"
   ]
  },
  {
   "cell_type": "code",
   "execution_count": 12,
   "metadata": {
    "collapsed": true
   },
   "outputs": [],
   "source": [
    "save_answers1(numbers[0], numbers[1], numbers[2], numbers[3], numbers[4], numbers[5])"
   ]
  },
  {
   "cell_type": "markdown",
   "metadata": {},
   "source": [
    "### Фильтрация словаря\n",
    "В топах тем гораздо чаще встречаются первые три рассмотренных ингредиента, чем последние три. При этом наличие в рецепте курицы, яиц и грибов яснее дает понять, что мы будем готовить, чем наличие соли, сахара и воды. Таким образом, даже в рецептах есть слова, часто встречающиеся в текстах и не несущие смысловой нагрузки, и поэтому их не желательно видеть в темах. Наиболее простой прием борьбы с такими фоновыми элементами - фильтрация словаря по частоте. Обычно словарь фильтруют с двух сторон: убирают очень редкие слова (в целях экономии памяти) и очень частые слова (в целях повышения интерпретируемости тем). Мы уберем только частые слова."
   ]
  },
  {
   "cell_type": "code",
   "execution_count": 98,
   "metadata": {
    "collapsed": true
   },
   "outputs": [],
   "source": [
    "import copy\n",
    "dictionary2 = copy.deepcopy(dictionary)"
   ]
  },
  {
   "cell_type": "markdown",
   "metadata": {},
   "source": [
    "__Задание 2.__ У объекта dictionary2 есть переменная dfs - это словарь, ключами которого являются id токена, а элементами - число раз, сколько слово встретилось во всей коллекции. Сохраните в отдельный список ингредиенты, которые встретились в коллекции больше 4000 раз. Вызовите метод словаря filter_tokens, подав в качестве первого аргумента полученный список популярных ингредиентов. Вычислите две величины: dict_size_before и dict_size_after - размер словаря до и после фильтрации.\n",
    "\n",
    "Затем, используя новый словарь, создайте новый корпус документов, corpus2, по аналогии с тем, как это сделано в начале ноутбука. Вычислите две величины: corpus_size_before и corpus_size_after - суммарное количество ингредиентов в корпусе (иными словами, сумма длин всех документов коллекции) до и после фильтрации.\n",
    "\n",
    "Передайте величины dict_size_before, dict_size_after, corpus_size_before, corpus_size_after в функцию save_answers2 и загрузите сгенерированный файл в форму."
   ]
  },
  {
   "cell_type": "code",
   "execution_count": 101,
   "metadata": {
    "collapsed": false
   },
   "outputs": [],
   "source": [
    "dict_size_before = len(dictionary.dfs)"
   ]
  },
  {
   "cell_type": "code",
   "execution_count": 100,
   "metadata": {
    "collapsed": false
   },
   "outputs": [
    {
     "data": {
      "text/plain": [
       "[4438, 7380, 4385, 4784, 18048, 4847, 7457, 7972, 6434, 7971, 6236, 4632]"
      ]
     },
     "execution_count": 100,
     "metadata": {},
     "output_type": "execute_result"
    }
   ],
   "source": [
    "[dictionary2.dfs[key] for key in dictionary2.dfs.keys() if dictionary2.dfs[key] > 4000]"
   ]
  },
  {
   "cell_type": "code",
   "execution_count": 102,
   "metadata": {
    "collapsed": false
   },
   "outputs": [
    {
     "name": "stdout",
     "output_type": "stream",
     "text": [
      "6714\n"
     ]
    },
    {
     "data": {
      "text/plain": [
       "6702"
      ]
     },
     "execution_count": 102,
     "metadata": {},
     "output_type": "execute_result"
    }
   ],
   "source": [
    "bad_ids = [key for key in dictionary2.dfs.keys() if dictionary2.dfs[key] > 4000]\n",
    "dictionary2.filter_tokens(bad_ids)\n",
    "dict_size_after = len(dictionary2.dfs)\n",
    "print dict_size_before\n",
    "dict_size_after"
   ]
  },
  {
   "cell_type": "code",
   "execution_count": 104,
   "metadata": {
    "collapsed": false
   },
   "outputs": [
    {
     "name": "stdout",
     "output_type": "stream",
     "text": [
      "428249\n"
     ]
    },
    {
     "data": {
      "text/plain": [
       "343665"
      ]
     },
     "execution_count": 104,
     "metadata": {},
     "output_type": "execute_result"
    }
   ],
   "source": [
    "corpus2 = [dictionary2.doc2bow(text) for text in texts]\n",
    "corpus_size_before = 0\n",
    "corpus_size_after = 0\n",
    "for c in corpus:\n",
    "    corpus_size_before += len(c)\n",
    "\n",
    "for c in corpus2:\n",
    "    corpus_size_after  += len(c)\n",
    "    \n",
    "print corpus_size_before\n",
    "corpus_size_after"
   ]
  },
  {
   "cell_type": "code",
   "execution_count": 105,
   "metadata": {
    "collapsed": true
   },
   "outputs": [],
   "source": [
    "def save_answers2(dict_size_before, dict_size_after, corpus_size_before, corpus_size_after):\n",
    "    with open(\"cooking_LDA_pa_task2.txt\", \"w\") as fout:\n",
    "        fout.write(\" \".join([str(el) for el in [dict_size_before, dict_size_after, corpus_size_before, corpus_size_after]]))"
   ]
  },
  {
   "cell_type": "code",
   "execution_count": 106,
   "metadata": {
    "collapsed": true
   },
   "outputs": [],
   "source": [
    "save_answers2(dict_size_before, dict_size_after, corpus_size_before, corpus_size_after)"
   ]
  },
  {
   "cell_type": "markdown",
   "metadata": {},
   "source": [
    "### Сравнение когерентностей\n",
    "__Задание 3.__ Постройте еще одну модель по корпусу corpus2 и словарю dictioanary2, остальные параметры оставьте такими же, как при первом построении модели. Сохраните новую модель в другую переменную (не перезаписывайте предыдущую модель). Не забудьте про фиксирование seed!\n",
    "\n",
    "Затем воспользуйтесь методом top_topics модели, чтобы вычислить ее когерентность. Передайте в качестве аргумента соответствующий модели корпус. Метод вернет список кортежей (топ токенов, когерентность), отсортированных по убыванию последней. Вычислите среднюю по всем темам когерентность для каждой из двух моделей и передайте в функцию save_answers3. "
   ]
  },
  {
   "cell_type": "code",
   "execution_count": 52,
   "metadata": {
    "collapsed": false
   },
   "outputs": [
    {
     "name": "stdout",
     "output_type": "stream",
     "text": [
      "Wall time: 2min 54s\n"
     ]
    }
   ],
   "source": [
    "np.random.seed(76543)\n",
    "# здесь код для построения модели:\n",
    "%time second_model = models.ldamodel.LdaModel(corpus2, num_topics=40, id2word=dictionary2, passes=5)"
   ]
  },
  {
   "cell_type": "code",
   "execution_count": 53,
   "metadata": {
    "collapsed": false
   },
   "outputs": [
    {
     "name": "stdout",
     "output_type": "stream",
     "text": [
      "[([(0.060701202478307417, u'green bell pepper'), (0.056556523215000834, u'garlic powder'), (0.055464595931986799, u'salt'), (0.05364391417341325, u'cayenne pepper'), (0.039306025072256681, u'onions'), (0.034363248636521453, u'dried thyme'), (0.031722436012575309, u'paprika'), (0.030095138443782553, u'worcestershire sauce'), (0.026637303062034955, u'onion powder'), (0.02619895761516185, u'ground black pepper'), (0.024929711377600305, u'black pepper'), (0.024071897905204271, u'hot sauce'), (0.021874557131399328, u'vegetable oil'), (0.020369964847447675, u'cajun seasoning'), (0.019996696146977768, u'red bell pepper'), (0.019901726746529482, u'butter'), (0.019670505251226406, u'pepper'), (0.017446509345271161, u'all-purpose flour'), (0.016693327304388064, u'green onions'), (0.015958515290103673, u'garlic')], -389.99790027101932), ([(0.065601824097514153, u'jalapeno chilies'), (0.064436314445619494, u'salt'), (0.049230196150176486, u'avocado'), (0.040356655479829931, u'lime'), (0.033949493378055487, u'garlic'), (0.033907681758099682, u'purple onion'), (0.033125607095506854, u'olive oil'), (0.031578514512513603, u'cilantro'), (0.030626995840766048, u'fresh cilantro'), (0.028928350420480121, u'ground cumin'), (0.028854092863688337, u'lime juice'), (0.028435995539093192, u'chopped cilantro fresh'), (0.025766043268142049, u'white onion'), (0.024829034405749396, u'corn tortillas'), (0.023803749328827329, u'tomatoes'), (0.020475042206259314, u'fresh lime juice'), (0.018183146301534336, u'chopped cilantro'), (0.017998804078902805, u'pepper'), (0.017706966304352246, u'garlic cloves'), (0.01743063439534602, u'chili powder')], -409.02270480303082), ([(0.095884178906728762, u'soy sauce'), (0.051021911260369, u'sesame oil'), (0.041969978912902328, u'sugar'), (0.040218575795226044, u'corn starch'), (0.039011029548583397, u'garlic'), (0.035681533159697826, u'green onions'), (0.034480908543302387, u'scallions'), (0.0331045462272948, u'rice vinegar'), (0.029556424258569858, u'water'), (0.02913453915308865, u'salt'), (0.028356931486073388, u'vegetable oil'), (0.026100300911558311, u'ginger'), (0.025573880541333235, u'fresh ginger'), (0.019779531348755933, u'sesame seeds'), (0.017207972096823933, u'garlic cloves'), (0.013964107574457617, u'brown sugar'), (0.013622372435316983, u'mirin'), (0.013595361893534054, u'honey'), (0.012890193704588994, u'oyster sauce'), (0.012833909907781641, u'oil')], -427.00990893146331)]\n"
     ]
    },
    {
     "data": {
      "text/plain": [
       "[([(0.060254540512185172, u'lime'),\n",
       "   (0.056386613082621696, u'cilantro'),\n",
       "   (0.048554571620463838, u'jalapeno chilies'),\n",
       "   (0.047212513487793234, u'avocado'),\n",
       "   (0.042461956802760784, u'corn tortillas'),\n",
       "   (0.042412452917281393, u'black beans'),\n",
       "   (0.040799809293690613, u'cumin'),\n",
       "   (0.040688935883409709, u'chili powder'),\n",
       "   (0.033068501217536926, u'ground cumin'),\n",
       "   (0.024168930731405937, u'fresh cilantro'),\n",
       "   (0.021109557370092777, u'purple onion'),\n",
       "   (0.020483278476903847, u'kosher salt'),\n",
       "   (0.019709882753631988, u'tomatillos'),\n",
       "   (0.018699965031561981, u'chopped cilantro'),\n",
       "   (0.018425884923607069, u'lime juice'),\n",
       "   (0.018045062803821534, u'corn'),\n",
       "   (0.017429426490425677, u'sour cream'),\n",
       "   (0.015879711435590728, u'oregano'),\n",
       "   (0.015572926174556963, u'cilantro leaves'),\n",
       "   (0.01516966604766074, u'tomatoes')],\n",
       "  -446.38226319642979),\n",
       " ([(0.092359035948866103, u'fish sauce'),\n",
       "   (0.038568753895916061, u'carrots'),\n",
       "   (0.034650196403705126, u'beansprouts'),\n",
       "   (0.032654270051962316, u'cabbage'),\n",
       "   (0.031105941420415721, u'peanuts'),\n",
       "   (0.028013318891816866, u'lime'),\n",
       "   (0.027742707446928368, u'shallots'),\n",
       "   (0.02643409189259642, u'coconut milk'),\n",
       "   (0.021633579380530277, u'soy sauce'),\n",
       "   (0.020084018007120369, u'brown sugar'),\n",
       "   (0.020082682950257769, u'lime juice'),\n",
       "   (0.019570461545336929, u'rice noodles'),\n",
       "   (0.018489365807749087, u'oil'),\n",
       "   (0.018474083407934678, u'green onions'),\n",
       "   (0.018029510190786361, u'cilantro leaves'),\n",
       "   (0.017414680965304165, u'vinegar'),\n",
       "   (0.016765393148246075, u'cucumber'),\n",
       "   (0.016569704630386976, u'shrimp'),\n",
       "   (0.016099121738769904, u'red chili peppers'),\n",
       "   (0.015475791896508951, u'ginger')],\n",
       "  -477.63960768884857),\n",
       " ([(0.11921552225580714, u'soy sauce'),\n",
       "   (0.073215672015130157, u'corn starch'),\n",
       "   (0.069236822839345416, u'sesame oil'),\n",
       "   (0.046388180355184647, u'scallions'),\n",
       "   (0.043980094191947441, u'green onions'),\n",
       "   (0.042651488544368281, u'ginger'),\n",
       "   (0.032012309812155242, u'peanut oil'),\n",
       "   (0.028069127208302711, u'white pepper'),\n",
       "   (0.023501688162015193, u'oyster sauce'),\n",
       "   (0.022895926449256362, u'oil'),\n",
       "   (0.022438286709737274, u'fresh ginger'),\n",
       "   (0.021488393705902151, u'minced garlic'),\n",
       "   (0.019830796492301479, u'light soy sauce'),\n",
       "   (0.017007591876482733, u'hoisin sauce'),\n",
       "   (0.016617390828775242, u'ground pork'),\n",
       "   (0.015845263531738964, u'dark soy sauce'),\n",
       "   (0.014482990257640682, u'Shaoxing wine'),\n",
       "   (0.01338549942923554, u'chinese five-spice powder'),\n",
       "   (0.013070291486537901, u'brown sugar'),\n",
       "   (0.012710910328430289, u'noodles')],\n",
       "  -497.46245911945493)]"
      ]
     },
     "execution_count": 53,
     "metadata": {},
     "output_type": "execute_result"
    }
   ],
   "source": [
    "coh  = ldamodel.top_topics(corpus)\n",
    "coh2 = second_model.top_topics(corpus2)\n",
    "print coh[:3]\n",
    "coh2[:3]"
   ]
  },
  {
   "cell_type": "code",
   "execution_count": 54,
   "metadata": {
    "collapsed": false
   },
   "outputs": [],
   "source": [
    "nums = [c[1] for c in coh]\n",
    "nums2 = [c[1] for c in coh2]"
   ]
  },
  {
   "cell_type": "code",
   "execution_count": 55,
   "metadata": {
    "collapsed": true
   },
   "outputs": [],
   "source": [
    "def save_answers3(coherence, coherence2):\n",
    "    with open(\"cooking_LDA_pa_task3.txt\", \"w\") as fout:\n",
    "        fout.write(\" \".join([\"%3f\"%el for el in [coherence, coherence2]]))"
   ]
  },
  {
   "cell_type": "code",
   "execution_count": 56,
   "metadata": {
    "collapsed": true
   },
   "outputs": [],
   "source": [
    "save_answers3(np.mean(nums), np.mean(nums2))"
   ]
  },
  {
   "cell_type": "markdown",
   "metadata": {},
   "source": [
    "Считается, что когерентность хорошо соотносится с человеческими оценками интерпретируемости тем. Поэтому на больших текстовых коллекциях когерентность обычно повышается, если убрать фоновую лексику. Однако в нашем случае этого не произошло. "
   ]
  },
  {
   "cell_type": "markdown",
   "metadata": {},
   "source": [
    "### Изучение влияния гиперпараметра alpha"
   ]
  },
  {
   "cell_type": "markdown",
   "metadata": {},
   "source": [
    "В этом разделе мы будем работать со второй моделью, то есть той, которая построена по сокращенному корпусу. \n",
    "\n",
    "Пока что мы посмотрели только на матрицу темы-слова, теперь давайте посмотрим на матрицу темы-документы. Выведите темы для нулевого (или любого другого) документа из корпуса, воспользовавшись методом get_document_topics второй модели:"
   ]
  },
  {
   "cell_type": "code",
   "execution_count": 57,
   "metadata": {
    "collapsed": false
   },
   "outputs": [
    {
     "data": {
      "text/plain": [
       "[(5, 0.14058754595068232),\n",
       " (6, 0.22514899981620171),\n",
       " (7, 0.14363845423311525),\n",
       " (15, 0.12812499999999982),\n",
       " (18, 0.12812499999999982),\n",
       " (39, 0.12812499999999982)]"
      ]
     },
     "execution_count": 57,
     "metadata": {},
     "output_type": "execute_result"
    }
   ],
   "source": [
    "second_model.get_document_topics(corpus2[0])"
   ]
  },
  {
   "cell_type": "markdown",
   "metadata": {},
   "source": [
    "Также выведите содержимое переменной .alpha второй модели:"
   ]
  },
  {
   "cell_type": "code",
   "execution_count": 58,
   "metadata": {
    "collapsed": false
   },
   "outputs": [
    {
     "data": {
      "text/plain": [
       "array([ 0.025,  0.025,  0.025,  0.025,  0.025,  0.025,  0.025,  0.025,\n",
       "        0.025,  0.025,  0.025,  0.025,  0.025,  0.025,  0.025,  0.025,\n",
       "        0.025,  0.025,  0.025,  0.025,  0.025,  0.025,  0.025,  0.025,\n",
       "        0.025,  0.025,  0.025,  0.025,  0.025,  0.025,  0.025,  0.025,\n",
       "        0.025,  0.025,  0.025,  0.025,  0.025,  0.025,  0.025,  0.025])"
      ]
     },
     "execution_count": 58,
     "metadata": {},
     "output_type": "execute_result"
    }
   ],
   "source": [
    "second_model.alpha"
   ]
  },
  {
   "cell_type": "markdown",
   "metadata": {},
   "source": [
    "У вас должно получиться, что документ характеризуется небольшим числом тем. Попробуем поменять гиперпараметр alpha, задающий априорное распределение Дирихле для распределений тем в документах."
   ]
  },
  {
   "cell_type": "markdown",
   "metadata": {},
   "source": [
    "__Задание 4.__ Обучите третью модель: используйте сокращенный корпус (corpus2 и dictionary2) и установите параметр __alpha=1__, passes=5. Не забудьте задать количество тем и зафиксировать seed! Выведите темы новой модели для нулевого документа; должно получиться, что распределение над множеством тем практически равномерное. Чтобы убедиться в том, что во второй модели документы описываются гораздо более разреженными распределениями, чем в третьей, посчитайте суммарное количество элементов, __превосходящих 0.01__, в матрицах темы-документы обеих моделей. Другими словами, запросите темы  модели для каждого документа с параметром minimum_probability=0.01 и просуммируйте число элементов в получаемых массивах. Передайте две суммы (сначала для модели с alpha по умолчанию, затем для модели в alpha=1) в функцию save_answers4."
   ]
  },
  {
   "cell_type": "code",
   "execution_count": 59,
   "metadata": {
    "collapsed": false
   },
   "outputs": [
    {
     "name": "stdout",
     "output_type": "stream",
     "text": [
      "Wall time: 2min 28s\n"
     ]
    }
   ],
   "source": [
    "np.random.seed(76543)\n",
    "# здесь код для построения модели:\n",
    "%time third_model = models.ldamodel.LdaModel(corpus2, num_topics=40, id2word=dictionary2, passes=5, alpha=1)"
   ]
  },
  {
   "cell_type": "code",
   "execution_count": 60,
   "metadata": {
    "collapsed": false
   },
   "outputs": [
    {
     "data": {
      "text/plain": [
       "[(0, 0.021283834412886941),\n",
       " (1, 0.021294338459443365),\n",
       " (2, 0.021278249429218916),\n",
       " (3, 0.021421228004785183),\n",
       " (4, 0.02137778496236456),\n",
       " (5, 0.12176553978107443),\n",
       " (6, 0.021345694502343755),\n",
       " (7, 0.021303197774689971),\n",
       " (8, 0.021282918215771586),\n",
       " (9, 0.021283572884810566),\n",
       " (10, 0.021295533873115901),\n",
       " (11, 0.021357548328063396),\n",
       " (12, 0.021289078590205415),\n",
       " (13, 0.021279464939846528),\n",
       " (14, 0.021276596258448036),\n",
       " (15, 0.021471816600094729),\n",
       " (16, 0.024473584397882685),\n",
       " (17, 0.021292205366142722),\n",
       " (18, 0.042573073804320356),\n",
       " (19, 0.021313322594031556),\n",
       " (20, 0.042553398738674114),\n",
       " (21, 0.021276595745360973),\n",
       " (22, 0.021277529050467991),\n",
       " (23, 0.021317619679128087),\n",
       " (24, 0.021490849195955439),\n",
       " (25, 0.021498128546747899),\n",
       " (26, 0.021299484016769555),\n",
       " (27, 0.021287957657734297),\n",
       " (28, 0.021276595744680844),\n",
       " (29, 0.021314355616697079),\n",
       " (30, 0.021276595744680844),\n",
       " (31, 0.021287192676338693),\n",
       " (32, 0.021334172393748671),\n",
       " (33, 0.021445079770840998),\n",
       " (34, 0.021276595744680844),\n",
       " (35, 0.021276596247851182),\n",
       " (36, 0.021276778659737941),\n",
       " (37, 0.022413649822487957),\n",
       " (38, 0.021276595744680844),\n",
       " (39, 0.021285646023194802)]"
      ]
     },
     "execution_count": 60,
     "metadata": {},
     "output_type": "execute_result"
    }
   ],
   "source": [
    "third_model.get_document_topics(corpus2[0])"
   ]
  },
  {
   "cell_type": "code",
   "execution_count": 61,
   "metadata": {
    "collapsed": false
   },
   "outputs": [
    {
     "data": {
      "text/plain": [
       "array([1, 1, 1, 1, 1, 1, 1, 1, 1, 1, 1, 1, 1, 1, 1, 1, 1, 1, 1, 1, 1, 1, 1,\n",
       "       1, 1, 1, 1, 1, 1, 1, 1, 1, 1, 1, 1, 1, 1, 1, 1, 1])"
      ]
     },
     "execution_count": 61,
     "metadata": {},
     "output_type": "execute_result"
    }
   ],
   "source": [
    "third_model.alpha"
   ]
  },
  {
   "cell_type": "code",
   "execution_count": 62,
   "metadata": {
    "collapsed": false
   },
   "outputs": [
    {
     "data": {
      "text/plain": [
       "<gensim.interfaces.TransformedCorpus at 0x11380940>"
      ]
     },
     "execution_count": 62,
     "metadata": {},
     "output_type": "execute_result"
    }
   ],
   "source": [
    "distr1 = second_model.get_document_topics(corpus2, minimum_probability=0.01)\n",
    "distr2 = third_model.get_document_topics(corpus2, minimum_probability=0.01)\n",
    "distr1[:3]"
   ]
  },
  {
   "cell_type": "code",
   "execution_count": 63,
   "metadata": {
    "collapsed": true
   },
   "outputs": [],
   "source": [
    "def save_answers4(count_model2, count_model3):\n",
    "    with open(\"cooking_LDA_pa_task4.txt\", \"w\") as fout:\n",
    "        fout.write(\" \".join([str(el) for el in [count_model2, count_model3]]))"
   ]
  },
  {
   "cell_type": "code",
   "execution_count": 64,
   "metadata": {
    "collapsed": false
   },
   "outputs": [],
   "source": [
    "size1 = 0\n",
    "for x in distr1:\n",
    "    size1 += len(x)\n",
    "    \n",
    "size2 = 0\n",
    "for x in distr2:\n",
    "    size2 += len(x)\n",
    "    "
   ]
  },
  {
   "cell_type": "code",
   "execution_count": 65,
   "metadata": {
    "collapsed": true
   },
   "outputs": [],
   "source": [
    "save_answers4(size1, size2)"
   ]
  },
  {
   "cell_type": "markdown",
   "metadata": {},
   "source": [
    "Таким образом, гиперпараметр alpha влияет на разреженность распределений тем в документах. Аналогично гиперпараметр eta влияет на разреженность распределений слов в темах."
   ]
  },
  {
   "cell_type": "markdown",
   "metadata": {},
   "source": [
    "### LDA как способ понижения размерности\n",
    "Иногда распределения над темами, найденные с помощью LDA, добавляют в матрицу объекты-признаки как дополнительные, семантические, признаки, и это может улучшить качество решения задачи. Для простоты давайте просто обучим классификатор рецептов на кухни на признаках, полученных из LDA, и измерим точность (accuracy).\n",
    "\n",
    "__Задание 5.__ Используйте модель, построенную по сокращенной выборке с alpha по умолчанию (вторую модель). Составьте матрицу $\\Theta = p(t|d)$ вероятностей тем в документах; вы можете использовать тот же метод get_document_topics, а также вектор правильных ответов y (в том же порядке, в котором рецепты идут в переменной recipes). Создайте объект RandomForestClassifier со 100 деревьями, с помощью функции cross_val_score вычислите среднюю accuracy по трем фолдам (перемешивать данные не нужно) и передайте в функцию save_answers5."
   ]
  },
  {
   "cell_type": "code",
   "execution_count": 41,
   "metadata": {
    "collapsed": true
   },
   "outputs": [],
   "source": [
    "from sklearn.ensemble import RandomForestClassifier\n",
    "from sklearn.cross_validation import cross_val_score"
   ]
  },
  {
   "cell_type": "code",
   "execution_count": 66,
   "metadata": {
    "collapsed": false
   },
   "outputs": [
    {
     "data": {
      "text/plain": [
       "[(12, 0.12800929037297121),\n",
       " (16, 0.10249999999999995),\n",
       " (20, 0.087411410245347487),\n",
       " (25, 0.20013404059337991),\n",
       " (27, 0.11732579253705999),\n",
       " (31, 0.10159555835135975),\n",
       " (34, 0.080523907899881397),\n",
       " (38, 0.10249999999999995)]"
      ]
     },
     "execution_count": 66,
     "metadata": {},
     "output_type": "execute_result"
    }
   ],
   "source": [
    "topics = second_model.get_document_topics(corpus2, minimum_probability=0)\n",
    "topics[2]"
   ]
  },
  {
   "cell_type": "code",
   "execution_count": 71,
   "metadata": {
    "collapsed": false
   },
   "outputs": [
    {
     "data": {
      "text/plain": [
       "array([[ 0.        ,  0.        ,  0.        ,  0.        ,  0.        ,\n",
       "         0.14074373,  0.22471777,  0.14391349,  0.        ,  0.        ,\n",
       "         0.        ,  0.        ,  0.        ,  0.        ,  0.        ,\n",
       "         0.128125  ,  0.        ,  0.        ,  0.128125  ,  0.        ,\n",
       "         0.        ,  0.        ,  0.        ,  0.        ,  0.        ,\n",
       "         0.        ,  0.        ,  0.        ,  0.        ,  0.        ,\n",
       "         0.        ,  0.        ,  0.        ,  0.        ,  0.        ,\n",
       "         0.        ,  0.        ,  0.        ,  0.        ,  0.128125  ],\n",
       "       [ 0.        ,  0.11388889,  0.        ,  0.        ,  0.        ,\n",
       "         0.        ,  0.        ,  0.        ,  0.        ,  0.        ,\n",
       "         0.        ,  0.        ,  0.        ,  0.11388889,  0.11388889,\n",
       "         0.        ,  0.225     ,  0.        ,  0.        ,  0.        ,\n",
       "         0.        ,  0.        ,  0.        ,  0.        ,  0.        ,\n",
       "         0.        ,  0.        ,  0.        ,  0.        ,  0.        ,\n",
       "         0.        ,  0.33611111,  0.        ,  0.        ,  0.        ,\n",
       "         0.        ,  0.        ,  0.        ,  0.        ,  0.        ],\n",
       "       [ 0.        ,  0.        ,  0.        ,  0.        ,  0.        ,\n",
       "         0.        ,  0.        ,  0.        ,  0.        ,  0.        ,\n",
       "         0.        ,  0.        ,  0.12855639,  0.        ,  0.        ,\n",
       "         0.        ,  0.1025    ,  0.        ,  0.        ,  0.        ,\n",
       "         0.08782372,  0.        ,  0.        ,  0.        ,  0.        ,\n",
       "         0.20018039,  0.        ,  0.11691735,  0.        ,  0.        ,\n",
       "         0.        ,  0.10161475,  0.        ,  0.        ,  0.0799074 ,\n",
       "         0.        ,  0.        ,  0.        ,  0.1025    ,  0.        ]])"
      ]
     },
     "execution_count": 71,
     "metadata": {},
     "output_type": "execute_result"
    }
   ],
   "source": [
    "p = np.zeros([len(topics), 40])\n",
    "for i in range(len(topics)):\n",
    "    for t in topics[i]:\n",
    "        p[i, t[0]] = t[1]\n",
    "\n",
    "p[:3]"
   ]
  },
  {
   "cell_type": "code",
   "execution_count": 72,
   "metadata": {
    "collapsed": false
   },
   "outputs": [
    {
     "data": {
      "text/plain": [
       "[u'greek', u'southern_us', u'filipino', u'indian', u'indian']"
      ]
     },
     "execution_count": 72,
     "metadata": {},
     "output_type": "execute_result"
    }
   ],
   "source": [
    "y = [recipe[\"cuisine\"] for recipe in recipes]\n",
    "y[:5]"
   ]
  },
  {
   "cell_type": "code",
   "execution_count": 73,
   "metadata": {
    "collapsed": false
   },
   "outputs": [
    {
     "data": {
      "text/plain": [
       "array([ 0.55078037,  0.54657214,  0.55750075])"
      ]
     },
     "execution_count": 73,
     "metadata": {},
     "output_type": "execute_result"
    }
   ],
   "source": [
    "score = cross_val_score(RandomForestClassifier(n_estimators=100), p, y)\n",
    "score[:3]"
   ]
  },
  {
   "cell_type": "code",
   "execution_count": 74,
   "metadata": {
    "collapsed": true
   },
   "outputs": [],
   "source": [
    "def save_answers5(accuracy):\n",
    "     with open(\"cooking_LDA_pa_task5.txt\", \"w\") as fout:\n",
    "        fout.write(str(accuracy))"
   ]
  },
  {
   "cell_type": "code",
   "execution_count": 75,
   "metadata": {
    "collapsed": true
   },
   "outputs": [],
   "source": [
    "save_answers5(score.mean())"
   ]
  },
  {
   "cell_type": "markdown",
   "metadata": {},
   "source": [
    "Для такого большого количества классов это неплохая точность. Вы можете попроовать обучать RandomForest на исходной матрице частот слов, имеющей значительно большую размерность, и увидеть, что accuracy увеличивается на 10-15%. Таким образом, LDA собрал не всю, но достаточно большую часть информации из выборки, в матрице низкого ранга."
   ]
  },
  {
   "cell_type": "markdown",
   "metadata": {},
   "source": [
    "### LDA --- вероятностная модель\n",
    "Матричное разложение, использующееся в LDA, интерпретируется как следующий процесс генерации документов.\n",
    "\n",
    "Для документа $d$ длины $n_d$:\n",
    "1. Из априорного распределения Дирихле с параметром alpha сгенерировать распределение над множеством тем: $\\theta_d \\sim Dirichlet(\\alpha)$\n",
    "1. Для каждого слова $w = 1, \\dots, n_d$:\n",
    "    1. Сгенерировать тему из дискретного распределения $t \\sim \\theta_{d}$\n",
    "    1. Сгенерировать слово из дискретного распределения $w \\sim \\phi_{t}$.\n",
    "    \n",
    "Подробнее об этом в [Википедии](https://en.wikipedia.org/wiki/Latent_Dirichlet_allocation).\n",
    "\n",
    "В контексте нашей задачи получается, что, используя данный генеративный процесс, можно создавать новые рецепты. Вы можете передать в функцию модель и число ингредиентов и сгенерировать рецепт :)"
   ]
  },
  {
   "cell_type": "code",
   "execution_count": 82,
   "metadata": {
    "collapsed": false
   },
   "outputs": [],
   "source": [
    "def generate_recipe(model, num_ingredients):\n",
    "    theta = np.random.dirichlet(model.alpha)\n",
    "    for i in range(num_ingredients):\n",
    "        t = np.random.choice(np.arange(model.num_topics), p=theta)\n",
    "        topic = model.show_topic(t, topn=model.num_terms)\n",
    "        topic_distr = [x[1] for x in topic]\n",
    "        terms = [x[0] for x in topic]\n",
    "        w = np.random.choice(terms, p=topic_distr)\n",
    "        print w"
   ]
  },
  {
   "cell_type": "code",
   "execution_count": 85,
   "metadata": {
    "collapsed": false
   },
   "outputs": [
    {
     "name": "stdout",
     "output_type": "stream",
     "text": [
      "chopped cilantro fresh\n",
      "curry powder\n",
      "white onion\n",
      "canola oil\n",
      "greek yogurt\n"
     ]
    }
   ],
   "source": [
    "generate_recipe(ldamodel, 5)"
   ]
  },
  {
   "cell_type": "markdown",
   "metadata": {},
   "source": [
    "### Интерпретация построенной модели\n",
    "Вы можете рассмотреть топы ингредиентов каждой темы. Большиснтво тем сами по себе похожи на рецепты; в некоторых собираются продукты одного вида, например, свежие фрукты или разные виды сыра.\n",
    "\n",
    "Попробуем эмпирически соотнести наши темы с национальными кухнями (cuisine). Построим матрицу A размера темы x кухни, ее элементы $a_{tc}$ - суммы p(t|d) по всем документам d, которые отнесены к кухне c. Нормируем матрицу на частоты рецептов по разным кухням, чтобы избежать дисбаланса между кухнями. Следующая функция получает на вход объект модели, объект корпуса и исходные данные и возвращает нормированную матрицу A. Ее удобно визуализировать с помощью seaborn."
   ]
  },
  {
   "cell_type": "code",
   "execution_count": 86,
   "metadata": {
    "collapsed": true
   },
   "outputs": [],
   "source": [
    "import pandas\n",
    "import seaborn\n",
    "from matplotlib import pyplot as plt\n",
    "%matplotlib inline"
   ]
  },
  {
   "cell_type": "code",
   "execution_count": 87,
   "metadata": {
    "collapsed": true
   },
   "outputs": [],
   "source": [
    "def compute_topic_cuisine_matrix(model, corpus, recipes):\n",
    "    # составляем вектор целевых признаков\n",
    "    targets = list(set([recipe[\"cuisine\"] for recipe in recipes]))\n",
    "    # составляем матрицу\n",
    "    tc_matrix = pandas.DataFrame(data=np.zeros((model.num_topics, len(targets))), columns=targets)\n",
    "    for recipe, bow in zip(recipes, corpus):\n",
    "        recipe_topic = model.get_document_topics(bow)\n",
    "        for t, prob in recipe_topic:\n",
    "            tc_matrix[recipe[\"cuisine\"]][t] += prob\n",
    "    # нормируем матрицу\n",
    "    target_sums = pandas.DataFrame(data=np.zeros((1, len(targets))), columns=targets)\n",
    "    for recipe in recipes:\n",
    "        target_sums[recipe[\"cuisine\"]] += 1\n",
    "    return pandas.DataFrame(tc_matrix.values/target_sums.values, columns=tc_matrix.columns)"
   ]
  },
  {
   "cell_type": "code",
   "execution_count": 88,
   "metadata": {
    "collapsed": true
   },
   "outputs": [],
   "source": [
    "def plot_matrix(tc_matrix):\n",
    "    plt.figure(figsize=(10, 10))\n",
    "    seaborn.heatmap(tc_matrix, square=True)"
   ]
  },
  {
   "cell_type": "code",
   "execution_count": 89,
   "metadata": {
    "collapsed": false
   },
   "outputs": [
    {
     "data": {
      "image/png": "[encoded data removed]",
      "text/plain": [
       "<matplotlib.figure.Figure at 0x17dfde80>"
      ]
     },
     "metadata": {},
     "output_type": "display_data"
    }
   ],
   "source": [
    "# Визуализируйте матрицу\n",
    "matrix = compute_topic_cuisine_matrix(ldamodel, corpus, recipes)\n",
    "plot_matrix(matrix)"
   ]
  },
  {
   "cell_type": "markdown",
   "metadata": {},
   "source": [
    "Чем темнее квадрат в матрице, тем больше связь этой темы с данной кухней. Мы видим, что у нас есть темы, которые связаны с несколькими кухнями. Такие темы показывают набор ингредиентов, которые популярны в кухнях нескольких народов, то есть указывают на схожесть кухонь этих народов. Некоторые темы распределены по всем кухням равномерно, они показывают наборы продуктов, которые часто используются в кулинарии всех стран. "
   ]
  },
  {
   "cell_type": "markdown",
   "metadata": {},
   "source": [
    "Жаль, что в датасете нет названий рецептов, иначе темы было бы проще интерпретировать..."
   ]
  },
  {
   "cell_type": "markdown",
   "metadata": {},
   "source": [
    "### Заключение\n",
    "В этом задании вы построили несколько моделей LDA, посмотрели, на что влияют гиперпараметры модели и как можно использовать построенную модель. "
   ]
  }
 ],
 "metadata": {
  "kernelspec": {
   "display_name": "Python 2",
   "language": "python",
   "name": "python2"
  },
  "language_info": {
   "codemirror_mode": {
    "name": "ipython",
    "version": 2
   },
   "file_extension": ".py",
   "mimetype": "text/x-python",
   "name": "python",
   "nbconvert_exporter": "python",
   "pygments_lexer": "ipython2",
   "version": "2.7.11"
  }
 },
 "nbformat": 4,
 "nbformat_minor": 0
}
