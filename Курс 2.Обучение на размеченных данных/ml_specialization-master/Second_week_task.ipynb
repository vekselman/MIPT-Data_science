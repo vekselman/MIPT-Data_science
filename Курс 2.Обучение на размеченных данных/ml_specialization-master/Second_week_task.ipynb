{
 "cells": [
  {
   "cell_type": "markdown",
   "metadata": {},
   "source": [
    "## Задача 1"
   ]
  },
  {
   "cell_type": "code",
   "execution_count": 2,
   "metadata": {
    "collapsed": false
   },
   "outputs": [],
   "source": [
    "f = open(\"sentences.txt\")\n",
    "lines = f.readlines()"
   ]
  },
  {
   "cell_type": "code",
   "execution_count": 3,
   "metadata": {
    "collapsed": false
   },
   "outputs": [
    {
     "name": "stdout",
     "output_type": "stream",
     "text": [
      "22\n"
     ]
    }
   ],
   "source": [
    "import re\n",
    "lines = [x.lower() for x in lines]\n",
    "splitted = [re.split('[^a-z]+', x) for x in lines]\n",
    "splitted = [[y for y in x if y] for x in splitted]\n",
    "words = {}\n",
    "for i in range(len(splitted)):\n",
    "    for j in range(len(splitted[i])):\n",
    "        if words.get(splitted[i][j]) == None:\n",
    "            counts = [0]*len(splitted)\n",
    "            counts[i] = 1\n",
    "            words[splitted[i][j]] = counts\n",
    "        else:\n",
    "            (words[splitted[i][j]])[i] += 1\n",
    "            \n",
    "print(len(list(words.values())[15]))"
   ]
  },
  {
   "cell_type": "code",
   "execution_count": 4,
   "metadata": {
    "collapsed": false
   },
   "outputs": [
    {
     "name": "stdout",
     "output_type": "stream",
     "text": [
      "(22, 254)\n"
     ]
    }
   ],
   "source": [
    "import numpy as np\n",
    "matrix = np.array([y for (x, y) in words.items()]).transpose()\n",
    "print(matrix.shape)"
   ]
  },
  {
   "cell_type": "code",
   "execution_count": 15,
   "metadata": {
    "collapsed": false
   },
   "outputs": [
    {
     "name": "stdout",
     "output_type": "stream",
     "text": [
      "[(0.7327387580875756, 6), (0.77708871496985887, 4), (0.83281653622739416, 10), (0.83964325485254543, 12), (0.84063618542208085, 16), (0.84275727449171223, 20), (0.86447381456421235, 2), (0.87035925528956715, 13), (0.87401184233025764, 14), (0.88047713906656067, 11), (0.88427248752843102, 8), (0.88854435748492944, 19), (0.89517151632780823, 3), (0.90550888174769317, 9), (0.92587506833388988, 7), (0.94023856953328033, 5), (0.94427217874246472, 15), (0.94427217874246472, 18), (0.95275444087384664, 1), (0.95664450152379399, 17)]\n"
     ]
    }
   ],
   "source": [
    "from scipy.spatial.distance import cosine\n",
    "\n",
    "first = matrix[0]\n",
    "distances = [(cosine(first, matrix[i]), i) for i in range(1, len(matrix[1:, 0]))]\n",
    "print(sorted(distances))"
   ]
  },
  {
   "cell_type": "markdown",
   "metadata": {},
   "source": [
    "## Задача 2"
   ]
  },
  {
   "cell_type": "code",
   "execution_count": 16,
   "metadata": {
    "collapsed": true
   },
   "outputs": [],
   "source": [
    "from scipy.linalg import solve\n",
    "from matplotlib import pylab as plt\n",
    "import math\n",
    "%matplotlib inline"
   ]
  },
  {
   "cell_type": "code",
   "execution_count": 19,
   "metadata": {
    "collapsed": true
   },
   "outputs": [],
   "source": [
    "def func(x):\n",
    "    return math.sin(x/5) * math.exp(x/10) + 5 * math.exp(-x/2)"
   ]
  },
  {
   "cell_type": "code",
   "execution_count": 33,
   "metadata": {
    "collapsed": false
   },
   "outputs": [
    {
     "name": "stdout",
     "output_type": "stream",
     "text": [
      "[ 3.43914511 -0.18692825]\n"
     ]
    }
   ],
   "source": [
    "f1 = func(1)\n",
    "f15 = func(15)\n",
    "\n",
    "b = np.array([f1, f15])\n",
    "a = np.array([[1, 1], [1, 15]])\n",
    "w = solve(a, b)\n",
    "print(w)"
   ]
  },
  {
   "cell_type": "code",
   "execution_count": 34,
   "metadata": {
    "collapsed": false
   },
   "outputs": [
    {
     "data": {
      "image/png": "[encoded data removed]",
      "text/plain": [
       "<matplotlib.figure.Figure at 0x77b2a90>"
      ]
     },
     "metadata": {},
     "output_type": "display_data"
    }
   ],
   "source": [
    "x = np.arange(1, 16)\n",
    "\n",
    "yp = w[0] + w[1] * x\n",
    "yf = [func(f) for f in x]\n",
    "\n",
    "plt.plot(x, yp)\n",
    "plt.plot(x, yf)\n",
    "plt.show()"
   ]
  },
  {
   "cell_type": "code",
   "execution_count": 35,
   "metadata": {
    "collapsed": false
   },
   "outputs": [
    {
     "name": "stdout",
     "output_type": "stream",
     "text": [
      "[ 3.32512949 -0.06531159 -0.00760104]\n"
     ]
    }
   ],
   "source": [
    "b = np.array([func(1), func(8), func(15)])\n",
    "a = np.array([[1, 1, 1], [1, 8, 64], [1, 15, 225]])\n",
    "w = solve(a, b)\n",
    "print(w)"
   ]
  },
  {
   "cell_type": "code",
   "execution_count": 36,
   "metadata": {
    "collapsed": false
   },
   "outputs": [
    {
     "data": {
      "image/png": "[encoded data removed]",
      "text/plain": [
       "<matplotlib.figure.Figure at 0x77f48d0>"
      ]
     },
     "metadata": {},
     "output_type": "display_data"
    }
   ],
   "source": [
    "yp = w[0] + w[1] * x + w[2] * (x ** 2)\n",
    "\n",
    "plt.plot(x, yp)\n",
    "plt.plot(x, yf)\n",
    "plt.show()"
   ]
  },
  {
   "cell_type": "code",
   "execution_count": 37,
   "metadata": {
    "collapsed": false
   },
   "outputs": [
    {
     "name": "stdout",
     "output_type": "stream",
     "text": [
      "[ 4.36264154 -1.29552587  0.19333685 -0.00823565]\n"
     ]
    }
   ],
   "source": [
    "b = np.array([func(1), func(4), func(10), func(15)])\n",
    "a = np.array([[1, 1, 1, 1], [1, 4, 16, 64], [1, 10, 100, 1000], [1, 15, 225, 225*15]])\n",
    "\n",
    "w = solve(a, b)\n",
    "print(w)"
   ]
  },
  {
   "cell_type": "code",
   "execution_count": 38,
   "metadata": {
    "collapsed": false
   },
   "outputs": [
    {
     "data": {
      "image/png": "[encoded data removed]",
      "text/plain": [
       "<matplotlib.figure.Figure at 0x79057b8>"
      ]
     },
     "metadata": {},
     "output_type": "display_data"
    }
   ],
   "source": [
    "yp = w[0] + w[1] * x + w[2] * (x ** 2) + w[3] * (x ** 3)\n",
    "\n",
    "plt.plot(x, yp)\n",
    "plt.plot(x, yf)\n",
    "plt.show()"
   ]
  }
 ],
 "metadata": {
  "kernelspec": {
   "display_name": "Python 3",
   "language": "python",
   "name": "python3"
  },
  "language_info": {
   "codemirror_mode": {
    "name": "ipython",
    "version": 3
   },
   "file_extension": ".py",
   "mimetype": "text/x-python",
   "name": "python",
   "nbconvert_exporter": "python",
   "pygments_lexer": "ipython3",
   "version": "3.4.3"
  }
 },
 "nbformat": 4,
 "nbformat_minor": 0
}
