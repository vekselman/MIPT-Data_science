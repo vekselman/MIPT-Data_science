{
 "cells": [
  {
   "cell_type": "code",
   "execution_count": 1,
   "metadata": {
    "collapsed": true
   },
   "outputs": [],
   "source": [
    "from scipy.linalg import solve\n",
    "from matplotlib import pylab as plt\n",
    "import math\n",
    "%matplotlib inline"
   ]
  },
  {
   "cell_type": "code",
   "execution_count": 2,
   "metadata": {
    "collapsed": true
   },
   "outputs": [],
   "source": [
    "def func(x):\n",
    "    return math.sin(x/5.) * math.exp(x/10.) + 5 * math.exp(-x/2.)"
   ]
  },
  {
   "cell_type": "code",
   "execution_count": 11,
   "metadata": {
    "collapsed": false
   },
   "outputs": [
    {
     "name": "stdout",
     "output_type": "stream",
     "text": [
      "[array([ 4.13628821]), array([ 4.13625294]), array([ 4.1362887]), array([ 4.13629865]), array([ 4.13629149]), array([ 25.88019259]), array([ 25.88019302]), array([ 25.88018732]), array([ 25.88019322]), array([ 25.88018157]), array([ 25.88019291]), array([ 25.88019288]), array([ 25.88018582]), array([ 25.88019778]), array([ 25.88019305])]\n"
     ]
    }
   ],
   "source": [
    "from scipy.optimize import minimize\n",
    "result = [minimize(func, [x], bounds=[(1, 30)]).x for x in range(1,30,2)]\n",
    "print(result)"
   ]
  },
  {
   "cell_type": "code",
   "execution_count": 12,
   "metadata": {
    "collapsed": false
   },
   "outputs": [
    {
     "name": "stdout",
     "output_type": "stream",
     "text": [
      "     nfev: 21\n",
      "   status: 0\n",
      " hess_inv: array([[ 5.98752645]])\n",
      "  success: True\n",
      "  message: 'Optimization terminated successfully.'\n",
      "     njev: 7\n",
      "      fun: 1.7452682903447336\n",
      "      jac: array([ -2.04145908e-06])\n",
      "        x: array([ 4.13627628])\n"
     ]
    }
   ],
   "source": [
    "print(minimize(func, [2], method='BFGS'))"
   ]
  },
  {
   "cell_type": "code",
   "execution_count": 13,
   "metadata": {
    "collapsed": false
   },
   "outputs": [
    {
     "name": "stdout",
     "output_type": "stream",
     "text": [
      "     nfev: 18\n",
      "   status: 0\n",
      " hess_inv: array([[ 1.67840334]])\n",
      "  success: True\n",
      "  message: 'Optimization terminated successfully.'\n",
      "     njev: 6\n",
      "      fun: -11.898894665981265\n",
      "      jac: array([  1.19209290e-07])\n",
      "        x: array([ 25.88019347])\n"
     ]
    }
   ],
   "source": [
    "print(minimize(func, [30], method='BFGS'))"
   ]
  }
 ],
 "metadata": {
  "kernelspec": {
   "display_name": "Python 3",
   "language": "python",
   "name": "python3"
  },
  "language_info": {
   "codemirror_mode": {
    "name": "ipython",
    "version": 3
   },
   "file_extension": ".py",
   "mimetype": "text/x-python",
   "name": "python",
   "nbconvert_exporter": "python",
   "pygments_lexer": "ipython3",
   "version": "3.4.3"
  }
 },
 "nbformat": 4,
 "nbformat_minor": 0
}
